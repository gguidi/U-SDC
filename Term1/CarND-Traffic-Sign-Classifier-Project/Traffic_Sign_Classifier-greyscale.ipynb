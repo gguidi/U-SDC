{
 "cells": [
  {
   "cell_type": "markdown",
   "metadata": {
    "deletable": true,
    "editable": true
   },
   "source": [
    "# Self-Driving Car Engineer Nanodegree\n",
    "\n",
    "## Deep Learning\n",
    "\n",
    "## Project: Build a Traffic Sign Recognition Classifier\n",
    "\n",
    "In this notebook, a template is provided for you to implement your functionality in stages, which is required to successfully complete this project. If additional code is required that cannot be included in the notebook, be sure that the Python code is successfully imported and included in your submission if necessary. \n",
    "\n",
    "> **Note**: Once you have completed all of the code implementations, you need to finalize your work by exporting the iPython Notebook as an HTML document. Before exporting the notebook to html, all of the code cells need to have been run so that reviewers can see the final implementation and output. You can then export the notebook by using the menu above and navigating to  \\n\",\n",
    "    \"**File -> Download as -> HTML (.html)**. Include the finished document along with this notebook as your submission. \n",
    "\n",
    "In addition to implementing code, there is a writeup to complete. The writeup should be completed in a separate file, which can be either a markdown file or a pdf document. There is a [write up template](https://github.com/udacity/CarND-Traffic-Sign-Classifier-Project/blob/master/writeup_template.md) that can be used to guide the writing process. Completing the code template and writeup template will cover all of the [rubric points](https://review.udacity.com/#!/rubrics/481/view) for this project.\n",
    "\n",
    "The [rubric](https://review.udacity.com/#!/rubrics/481/view) contains \"Stand Out Suggestions\" for enhancing the project beyond the minimum requirements. The stand out suggestions are optional. If you decide to pursue the \"stand out suggestions\", you can include the code in this Ipython notebook and also discuss the results in the writeup file.\n",
    "\n",
    "\n",
    ">**Note:** Code and Markdown cells can be executed using the **Shift + Enter** keyboard shortcut. In addition, Markdown cells can be edited by typically double-clicking the cell to enter edit mode."
   ]
  },
  {
   "cell_type": "markdown",
   "metadata": {
    "deletable": true,
    "editable": true
   },
   "source": [
    "---\n",
    "## Step 0: Load The Data"
   ]
  },
  {
   "cell_type": "code",
   "execution_count": 1,
   "metadata": {
    "collapsed": false,
    "deletable": true,
    "editable": true
   },
   "outputs": [
    {
     "name": "stdout",
     "output_type": "stream",
     "text": [
      "(34799, 32, 32, 3)\n",
      "(4410, 32, 32, 3)\n",
      "(12630, 32, 32, 3)\n",
      "12630\n"
     ]
    }
   ],
   "source": [
    "# Load pickled data\n",
    "import pickle\n",
    "import numpy as np\n",
    "\n",
    "# TODO: Fill this in based on where you saved the training and testing data\n",
    "\n",
    "training_file = \"Dataset_traffic_signs/train.p\"\n",
    "validation_file=\"Dataset_traffic_signs/valid.p\"\n",
    "testing_file = \"Dataset_traffic_signs/test.p\"\n",
    "\n",
    "with open(training_file, mode='rb') as f:\n",
    "    train = pickle.load(f)\n",
    "with open(validation_file, mode='rb') as f:\n",
    "    valid = pickle.load(f)\n",
    "with open(testing_file, mode='rb') as f:\n",
    "    test = pickle.load(f)\n",
    "#all numpy arrays  \n",
    "X_train, y_train = train['features'], train['labels']\n",
    "X_valid, y_valid = valid['features'], valid['labels']\n",
    "X_test, y_test = test['features'], test['labels']\n",
    "\n",
    "print(X_train.shape)\n",
    "print(X_valid.shape)\n",
    "print(X_test.shape)\n",
    "print(len(X_test))"
   ]
  },
  {
   "cell_type": "markdown",
   "metadata": {
    "deletable": true,
    "editable": true
   },
   "source": [
    "---\n",
    "\n",
    "## Step 1: Dataset Summary & Exploration\n",
    "\n",
    "The pickled data is a dictionary with 4 key/value pairs:\n",
    "\n",
    "- `'features'` is a 4D array containing raw pixel data of the traffic sign images, (num examples, width, height, channels).\n",
    "- `'labels'` is a 1D array containing the label/class id of the traffic sign. The file `signnames.csv` contains id -> name mappings for each id.\n",
    "- `'sizes'` is a list containing tuples, (width, height) representing the original width and height the image.\n",
    "- `'coords'` is a list containing tuples, (x1, y1, x2, y2) representing coordinates of a bounding box around the sign in the image. **THESE COORDINATES ASSUME THE ORIGINAL IMAGE. THE PICKLED DATA CONTAINS RESIZED VERSIONS (32 by 32) OF THESE IMAGES**\n",
    "\n",
    "Complete the basic data summary below. Use python, numpy and/or pandas methods to calculate the data summary rather than hard coding the results. For example, the [pandas shape method](http://pandas.pydata.org/pandas-docs/stable/generated/pandas.DataFrame.shape.html) might be useful for calculating some of the summary results. "
   ]
  },
  {
   "cell_type": "markdown",
   "metadata": {
    "deletable": true,
    "editable": true
   },
   "source": [
    "### Provide a Basic Summary of the Data Set Using Python, Numpy and/or Pandas"
   ]
  },
  {
   "cell_type": "code",
   "execution_count": 2,
   "metadata": {
    "collapsed": false,
    "deletable": true,
    "editable": true
   },
   "outputs": [
    {
     "name": "stdout",
     "output_type": "stream",
     "text": [
      "Number of training examples = 34799\n",
      "Number of validation examples = 4410\n",
      "Number of testing examples = 12630\n",
      "Image data shape = [32, 32, 3]\n",
      "Number of classes = 43\n"
     ]
    }
   ],
   "source": [
    "### Replace each question mark with the appropriate value. \n",
    "### Use python, pandas or numpy methods rather than hard coding the results\n",
    "\n",
    "#maybe use: sklearn.model_selection.train_test_split\n",
    "#Number of training examples\n",
    "#take 80\n",
    "n_train = len(X_train)\n",
    "\n",
    "#Number of validation examples\n",
    "n_validation = len(X_valid)\n",
    "\n",
    "#Number of testing examples.\n",
    "n_test = len(X_test)\n",
    "\n",
    "# TODO: What's the shape of an traffic sign image?\n",
    "image_shape = [32,32,3]\n",
    "\n",
    "# TODO: How many unique classes/labels there are in the dataset.\n",
    "n_classes = 43\n",
    "\n",
    "print(\"Number of training examples =\", n_train)\n",
    "print(\"Number of validation examples =\", n_validation)\n",
    "print(\"Number of testing examples =\", n_test)\n",
    "print(\"Image data shape =\", image_shape)\n",
    "print(\"Number of classes =\", n_classes)"
   ]
  },
  {
   "cell_type": "markdown",
   "metadata": {
    "deletable": true,
    "editable": true
   },
   "source": [
    "### Include an exploratory visualization of the dataset"
   ]
  },
  {
   "cell_type": "markdown",
   "metadata": {
    "deletable": true,
    "editable": true
   },
   "source": []
  },
  {
   "cell_type": "markdown",
   "metadata": {
    "deletable": true,
    "editable": true
   },
   "source": [
    "Visualize the German Traffic Signs Dataset using the pickled file(s). This is open ended, suggestions include: plotting traffic sign images, plotting the count of each sign, etc. \n",
    "\n",
    "The [Matplotlib](http://matplotlib.org/) [examples](http://matplotlib.org/examples/index.html) and [gallery](http://matplotlib.org/gallery.html) pages are a great resource for doing visualizations in Python.\n",
    "\n",
    "**NOTE:** It's recommended you start with something simple first. If you wish to do more, come back to it after you've completed the rest of the sections. It can be interesting to look at the distribution of classes in the training, validation and test set. Is the distribution the same? Are there more examples of some classes than others?"
   ]
  },
  {
   "cell_type": "code",
   "execution_count": 3,
   "metadata": {
    "collapsed": false,
    "deletable": true,
    "editable": true
   },
   "outputs": [
    {
     "data": {
      "image/png": "[encoded data removed]",
      "text/plain": [
       "<matplotlib.figure.Figure at 0x7f9a1981e630>"
      ]
     },
     "metadata": {},
     "output_type": "display_data"
    },
    {
     "name": "stdout",
     "output_type": "stream",
     "text": [
      "    ClassId               SignName\n",
      "31       31  Wild animals crossing\n"
     ]
    }
   ],
   "source": [
    "### Data exploration visualization code goes here.\n",
    "### Feel free to use as many code cells as needed.\n",
    "import matplotlib.pyplot as plt\n",
    "import random\n",
    "import pandas as pd\n",
    "# load the sing name csv as a Panda dataframe\n",
    "df = pd.read_csv('signnames.csv')\n",
    "#print(df.columns.values)\n",
    "# Visualizations will be shown in the notebook.\n",
    "%matplotlib inline\n",
    "\n",
    "#chose a random image to plot \n",
    "image_index = random.choice(range(n_train))\n",
    "#plot the image\n",
    "plt.imshow(X_train[image_index])\n",
    "plt.show()\n",
    "#check the value of the label and it's corresponding meaning\n",
    "image_label = y_train[image_index]\n",
    "#print(df['SignName'].loc[image_label])\n",
    "print(df.loc[df['ClassId'] == image_label])\n"
   ]
  },
  {
   "cell_type": "code",
   "execution_count": 4,
   "metadata": {
    "collapsed": false,
    "deletable": true,
    "editable": true
   },
   "outputs": [
    {
     "data": {
      "image/png": "[encoded data removed]",
      "text/plain": [
       "<matplotlib.figure.Figure at 0x7f9a081f74e0>"
      ]
     },
     "metadata": {},
     "output_type": "display_data"
    },
    {
     "name": "stdout",
     "output_type": "stream",
     "text": [
      "2010\n",
      "809.0\n"
     ]
    }
   ],
   "source": [
    "#plot the histogram of all the classes\n",
    "plt.hist(y_train, bins=n_classes)\n",
    "plt.title(\"Number of signs per label\")\n",
    "plt.show()\n",
    "\n",
    "# what is the average number of samples per class?\n",
    "hist = np.histogram(y_train, bins = n_classes, range = [0,42])\n",
    "\n",
    "hist_average = np.average(hist[0])\n",
    "hist_max = np.max(hist[0])\n",
    "print(hist_max)\n",
    "print(np.around(hist_average,decimals = 0))"
   ]
  },
  {
   "cell_type": "markdown",
   "metadata": {
    "deletable": true,
    "editable": true
   },
   "source": [
    "Show how the image rotation works    "
   ]
  },
  {
   "cell_type": "code",
   "execution_count": 5,
   "metadata": {
    "collapsed": false,
    "deletable": true,
    "editable": true
   },
   "outputs": [
    {
     "data": {
      "image/png": "[encoded data removed]",
      "text/plain": [
       "<matplotlib.figure.Figure at 0x7f9a080b89e8>"
      ]
     },
     "metadata": {},
     "output_type": "display_data"
    },
    {
     "data": {
      "image/png": "[encoded data removed]",
      "text/plain": [
       "<matplotlib.figure.Figure at 0x7f9a081b4588>"
      ]
     },
     "metadata": {},
     "output_type": "display_data"
    }
   ],
   "source": [
    "import scipy.ndimage\n",
    "import scipy.misc\n",
    "%matplotlib inline\n",
    "#chose a random image to plot \n",
    "image_index = random.choice(range(n_train))\n",
    "#rotate the image and keep the same format [32,32,3]\n",
    "r_img = scipy.ndimage.interpolation.rotate(X_train[image_index], 30, reshape = False, mode = 'nearest')\n",
    "\n",
    "###plot the images\n",
    "#plot the image in the database\n",
    "plt.imshow(X_train[image_index])\n",
    "plt.show()\n",
    "#plot the rotated image\n",
    "plt.imshow(r_img)\n",
    "plt.show()"
   ]
  },
  {
   "cell_type": "markdown",
   "metadata": {
    "deletable": true,
    "editable": true
   },
   "source": [
    "Now use a random rotation angle and for each label that has less than the average images per label, add a rotated image until we reach the average"
   ]
  },
  {
   "cell_type": "code",
   "execution_count": 6,
   "metadata": {
    "collapsed": false,
    "deletable": true,
    "editable": true
   },
   "outputs": [
    {
     "data": {
      "text/plain": [
       "'\\nfor label in range(n_classes):\\n    print(\\'number of images in this category: \\',hist[0][label])\\n    if hist[0][label]<hist_average:\\n        #check how many images are missing\\n        missing_images = int(hist_average-hist[0][label])\\n        print(\\'number of missing images\\',missing_images)\\n        while(missing_images>=0):\\n            #find the indexes of all the images having this label\\n            same_label_index=[i for i, x in enumerate(y_train) if x==label]\\n            #randomly grab an index in the list \\n            image_index = same_label_index[random.choice(range(len(same_label_index)))]\\n            img_to_be_rotated = X_train[image_index]\\n            #grab the label of this image\\n            img_label = y_train[image_index]\\n            #randomly grab a rotation value\\n            rotation_angle = np.round(random.uniform(-30.0,30.0), decimals=1)\\n            #rotate the image\\n            rotated_img = scipy.ndimage.interpolation.rotate(img_to_be_rotated, rotation_angle, reshape = False, mode = \\'nearest\\')\\n            #reshape the image to add it to the database\\n            rotated_img = np.reshape(rotated_img, (1,32,32,3))\\n            #add the image to the database\\n            X_train = np.concatenate((X_train, rotated_img))\\n            y_train = np.append(y_train, img_label)\\n            # don\\'t forget to change the missing_image value\\n            missing_images-=1\\n\\n# plot the histogram of the new dataset\\nplt.hist(y_train, bins=n_classes)\\nplt.title(\"Number of signs per label\")\\nplt.show()\\n\\n# save as a new file\\nnew_training_file = \"Dataset_traffic_signs/train_new.p\"\\nnew_train_dict = {\\'features\\': X_train , \\'labels\\': y_train}\\nwith open(new_training_file, mode=\\'wb\\') as f:\\n    pickle.dump(new_train_dict, f) \\n'"
      ]
     },
     "execution_count": 6,
     "metadata": {},
     "output_type": "execute_result"
    }
   ],
   "source": [
    "### only run this cell the first time the project is run\n",
    "### it creates a bigger dataset of training images by using existing labeled images and rotating them randomly\n",
    "\n",
    "'''\n",
    "for label in range(n_classes):\n",
    "    print('number of images in this category: ',hist[0][label])\n",
    "    if hist[0][label]<hist_average:\n",
    "        #check how many images are missing\n",
    "        missing_images = int(hist_average-hist[0][label])\n",
    "        print('number of missing images',missing_images)\n",
    "        while(missing_images>=0):\n",
    "            #find the indexes of all the images having this label\n",
    "            same_label_index=[i for i, x in enumerate(y_train) if x==label]\n",
    "            #randomly grab an index in the list \n",
    "            image_index = same_label_index[random.choice(range(len(same_label_index)))]\n",
    "            img_to_be_rotated = X_train[image_index]\n",
    "            #grab the label of this image\n",
    "            img_label = y_train[image_index]\n",
    "            #randomly grab a rotation value\n",
    "            rotation_angle = np.round(random.uniform(-30.0,30.0), decimals=1)\n",
    "            #rotate the image\n",
    "            rotated_img = scipy.ndimage.interpolation.rotate(img_to_be_rotated, rotation_angle, reshape = False, mode = 'nearest')\n",
    "            #reshape the image to add it to the database\n",
    "            rotated_img = np.reshape(rotated_img, (1,32,32,3))\n",
    "            #add the image to the database\n",
    "            X_train = np.concatenate((X_train, rotated_img))\n",
    "            y_train = np.append(y_train, img_label)\n",
    "            # don't forget to change the missing_image value\n",
    "            missing_images-=1\n",
    "\n",
    "# plot the histogram of the new dataset\n",
    "plt.hist(y_train, bins=n_classes)\n",
    "plt.title(\"Number of signs per label\")\n",
    "plt.show()\n",
    "\n",
    "# save as a new file\n",
    "new_training_file = \"Dataset_traffic_signs/train_new.p\"\n",
    "new_train_dict = {'features': X_train , 'labels': y_train}\n",
    "with open(new_training_file, mode='wb') as f:\n",
    "    pickle.dump(new_train_dict, f) \n",
    "'''"
   ]
  },
  {
   "cell_type": "code",
   "execution_count": 7,
   "metadata": {
    "collapsed": false,
    "deletable": true,
    "editable": true
   },
   "outputs": [],
   "source": [
    "# if the previous cell has already been run, jump to this one to retrieve the data\n",
    "\n",
    "new_training_file = \"Dataset_traffic_signs/train_new.p\"\n",
    "with open(new_training_file, mode='rb') as f:\n",
    "    test = pickle.load(f)\n",
    "#all numpy arrays  \n",
    "X_train, y_train = test['features'], test['labels']\n",
    "n_train = len(X_train)\n"
   ]
  },
  {
   "cell_type": "code",
   "execution_count": 8,
   "metadata": {
    "collapsed": false,
    "deletable": true,
    "editable": true
   },
   "outputs": [
    {
     "data": {
      "image/png": "[encoded data removed]",
      "text/plain": [
       "<matplotlib.figure.Figure at 0x7f9a0077e710>"
      ]
     },
     "metadata": {},
     "output_type": "display_data"
    },
    {
     "name": "stdout",
     "output_type": "stream",
     "text": [
      "    ClassId SignName\n",
      "13       13    Yield\n"
     ]
    },
    {
     "data": {
      "image/png": "[encoded data removed]",
      "text/plain": [
       "<matplotlib.figure.Figure at 0x7f9a0080e9e8>"
      ]
     },
     "metadata": {},
     "output_type": "display_data"
    }
   ],
   "source": [
    "#chose a random image to plot \n",
    "image_index = random.choice(range(n_train))\n",
    "#plot the image\n",
    "plt.imshow(X_train[image_index])\n",
    "plt.show()\n",
    "#check the value of the label and it's corresponding meaning\n",
    "image_label = y_train[image_index]\n",
    "#print(df['SignName'].loc[image_label])\n",
    "print(df.loc[df['ClassId'] == image_label])\n",
    "\n",
    "#plot the histogram of all the classes\n",
    "plt.hist(y_train, bins=n_classes)\n",
    "plt.title(\"Number of signs per label\")\n",
    "plt.show()"
   ]
  },
  {
   "cell_type": "markdown",
   "metadata": {
    "deletable": true,
    "editable": true
   },
   "source": [
    "----\n",
    "\n",
    "## Step 2: Design and Test a Model Architecture\n",
    "\n",
    "Design and implement a deep learning model that learns to recognize traffic signs. Train and test your model on the [German Traffic Sign Dataset](http://benchmark.ini.rub.de/?section=gtsrb&subsection=dataset).\n",
    "\n",
    "The LeNet-5 implementation shown in the [classroom](https://classroom.udacity.com/nanodegrees/nd013/parts/fbf77062-5703-404e-b60c-95b78b2f3f9e/modules/6df7ae49-c61c-4bb2-a23e-6527e69209ec/lessons/601ae704-1035-4287-8b11-e2c2716217ad/concepts/d4aca031-508f-4e0b-b493-e7b706120f81) at the end of the CNN lesson is a solid starting point. You'll have to change the number of classes and possibly the preprocessing, but aside from that it's plug and play! \n",
    "\n",
    "With the LeNet-5 solution from the lecture, you should expect a validation set accuracy of about 0.89. To meet specifications, the validation set accuracy will need to be at least 0.93. It is possible to get an even higher accuracy, but 0.93 is the minimum for a successful project submission. \n",
    "\n",
    "There are various aspects to consider when thinking about this problem:\n",
    "\n",
    "- Neural network architecture (is the network over or underfitting?)\n",
    "- Play around preprocessing techniques (normalization, rgb to grayscale, etc)\n",
    "- Number of examples per label (some have more than others).\n",
    "- Generate fake data.\n",
    "\n",
    "Here is an example of a [published baseline model on this problem](http://yann.lecun.com/exdb/publis/pdf/sermanet-ijcnn-11.pdf). It's not required to be familiar with the approach used in the paper but, it's good practice to try to read papers like these."
   ]
  },
  {
   "cell_type": "markdown",
   "metadata": {
    "deletable": true,
    "editable": true
   },
   "source": [
    "### Pre-process the Data Set (normalization, grayscale, etc.)"
   ]
  },
  {
   "cell_type": "markdown",
   "metadata": {
    "deletable": true,
    "editable": true
   },
   "source": [
    "Minimally, the image data should be normalized so that the data has mean zero and equal variance. For image data, `(pixel - 128)/ 128` is a quick way to approximately normalize the data and can be used in this project. \n",
    "\n",
    "Other pre-processing steps are optional. You can try different techniques to see if it improves performance. \n",
    "\n",
    "Use the code cell (or multiple code cells, if necessary) to implement the first step of your project."
   ]
  },
  {
   "cell_type": "code",
   "execution_count": 9,
   "metadata": {
    "collapsed": false,
    "deletable": true,
    "editable": true
   },
   "outputs": [
    {
     "name": "stdout",
     "output_type": "stream",
     "text": [
      "(46740, 32, 32, 3)\n",
      "(46740, 32, 32, 1)\n"
     ]
    }
   ],
   "source": [
    "### Preprocess the data here. It is required to normalize the data. Other preprocessing steps could include \n",
    "### converting to grayscale, etc.\n",
    "\n",
    "#normalize the data\n",
    "def normalize_grey_IMGdataset(X):\n",
    "    total_images = X.shape[0]\n",
    "    X = X.astype(np.float_)\n",
    "    X_grey = np.empty([total_images,32,32,1])\n",
    "    #transform the image into a greyscale\n",
    "    for i in range(total_images):\n",
    "        img = X[i]\n",
    "        img = np.dot(img[...,:3], [0.299, 0.587, 0.114])\n",
    "        X_grey[i] = np.expand_dims(img, axis=-1)\n",
    "    X_grey = np.divide((X_grey -128),128)\n",
    "    return X_grey \n",
    "\n",
    "print(X_train.shape)\n",
    "X_train = normalize_grey_IMGdataset(X_train)\n",
    "X_valid = normalize_grey_IMGdataset(X_valid)\n",
    "X_test = normalize_grey_IMGdataset(X_test)\n",
    "print(X_train.shape)"
   ]
  },
  {
   "cell_type": "code",
   "execution_count": 10,
   "metadata": {
    "collapsed": false
   },
   "outputs": [
    {
     "name": "stdout",
     "output_type": "stream",
     "text": [
      "(32, 32, 1)\n",
      "(32, 32)\n",
      "Normalized dataset:\n",
      "mean =  -0.353\n",
      "standard deviation =  0.514\n",
      "(46740, 32, 32, 1)\n"
     ]
    },
    {
     "data": {
      "image/png": "[encoded data removed]",
      "text/plain": [
       "<matplotlib.figure.Figure at 0x7f9a0a29b9b0>"
      ]
     },
     "metadata": {},
     "output_type": "display_data"
    }
   ],
   "source": [
    "#make sure the image is still OK\n",
    "print(X_train[image_index].shape)\n",
    "img = np.squeeze(X_train[image_index], axis = -1)\n",
    "print (img.shape)\n",
    "plt.imshow(img, cmap = 'gray')\n",
    "# compare the mean and std of the untouched and the new dataset\n",
    "print('Normalized dataset:')\n",
    "print('mean = ',np.around(np.mean(X_train),decimals = 3))\n",
    "print('standard deviation = ',np.around(np.std(X_train),decimals = 3))\n",
    "print(X_train.shape)"
   ]
  },
  {
   "cell_type": "markdown",
   "metadata": {
    "deletable": true,
    "editable": true
   },
   "source": [
    "### Model Architecture"
   ]
  },
  {
   "cell_type": "markdown",
   "metadata": {
    "deletable": true,
    "editable": true
   },
   "source": [
    "The CNN is based on LeNet with some slight modifications:\n",
    "- convolution layer 1\n",
    "- activation layer 1\n",
    "- pooling 1\n",
    "- convolution layer 2\n",
    "- activation layer 2\n",
    "- pooling 2\n",
    "- flatten with the output of ppoling 1 & pooling 2\n",
    "- fully connected layer 4\n",
    "- fully connected layer 5\n",
    "- fully connected layer 6\n"
   ]
  },
  {
   "cell_type": "code",
   "execution_count": 11,
   "metadata": {
    "collapsed": true,
    "deletable": true,
    "editable": true
   },
   "outputs": [],
   "source": [
    "import tensorflow as tf\n",
    "\n",
    "EPOCHS = 30\n",
    "BATCH_SIZE = 128"
   ]
  },
  {
   "cell_type": "code",
   "execution_count": 12,
   "metadata": {
    "collapsed": true,
    "deletable": true,
    "editable": true
   },
   "outputs": [],
   "source": [
    "from tensorflow.contrib.layers import flatten\n",
    "\n",
    "def LeNet(x):    \n",
    "    # Arguments used for tf.truncated_normal, randomly defines variables for the weights and biases for each layer\n",
    "    mu = 0\n",
    "    sigma = 0.1\n",
    "    \n",
    "    # TODO: Layer 1: Convolutional. Input = 32x32x1. Output = 28x28x6.\n",
    "    filter1_shape = [5,5,1,6]\n",
    "    F1 = tf.Variable(tf.random_normal(filter1_shape, mean = mu, stddev = sigma))\n",
    "    bias1 = tf.Variable(tf.zeros(6))\n",
    "    strides1 = [1,1,1,1]\n",
    "    padding1 = 'VALID'\n",
    "    layer1_out = tf.nn.conv2d(x,F1,strides1,padding1) + bias1\n",
    "    #print('layer1 shape = ', tf.shape(layer1_out))\n",
    "    # TODO: Activation.\n",
    "    activation1_out = tf.nn.relu(layer1_out)\n",
    "    # TODO: Pooling. Input = 28x28x6. Output = 14x14x6.\n",
    "    window_pool = [1, 2, 2, 1]\n",
    "    stride_pool = [1, 2, 2, 1]\n",
    "    padding_pool = 'VALID'\n",
    "    pool1_out = tf.nn.max_pool(activation1_out, window_pool, stride_pool, padding_pool)\n",
    "\n",
    "    # TODO: Layer 2: Convolutional. Output = 10x10x16.\n",
    "    filter2_shape = [5,5,6,16]\n",
    "    F2 = tf.Variable(tf.random_normal(filter2_shape, mean = mu, stddev = sigma))\n",
    "    bias2 = tf.Variable(tf.zeros(16))\n",
    "    strides2 = [1,1,1,1]\n",
    "    padding2 = 'VALID'\n",
    "    layer2_out = tf.nn.conv2d(pool1_out,F2,strides2,padding2)+ bias2\n",
    "    #print('layer2 shape = ', tf.shape(layer2_out))\n",
    "    # TODO: Activation.\n",
    "    activation2_out = tf.nn.relu(layer2_out)\n",
    "    # TODO: Pooling. Input = 10x10x16. Output = 5x5x16.\n",
    "    window_pool2 = [1, 2, 2, 1]\n",
    "    stride_pool2 = [1, 2, 2, 1]\n",
    "    pool2_out = tf.nn.max_pool(activation2_out, window_pool2, stride_pool2, padding_pool)\n",
    "\n",
    "    # Flatten 2. Input = 5x5x16. Output = 400.\n",
    "    # Flatten 1. Input = 14x14x6. Output = 1176.\n",
    "    # Flatten . Input = 400 + 1176. Output = 1576.\n",
    "    flatten_out_2 = tf.contrib.layers.flatten(pool2_out)\n",
    "    flatten_out_1 = tf.contrib.layers.flatten(pool1_out)\n",
    "    \n",
    "    flatten_out = tf.concat(concat_dim=1,values=[flatten_out_1, flatten_out_2])\n",
    "    # TODO: Layer 3: Fully Connected. Input = 400. Output = 120.\n",
    "    W3_ = tf.Variable(tf.random_normal(shape=(1576, 1000),mean = mu, stddev = sigma))\n",
    "    b3_ = tf.Variable(tf.zeros(1000))\n",
    "    layer3_out_ = tf.add(tf.matmul(flatten_out,W3_), b3_)\n",
    "    # TODO: Activation.\n",
    "    activation3_out_ = tf.sigmoid(layer3_out_)\n",
    "    \n",
    "    W3 = tf.Variable(tf.random_normal(shape=(1000, 120),mean = mu, stddev = sigma))\n",
    "    b3 = tf.Variable(tf.zeros(120))\n",
    "    layer3_out = tf.add(tf.matmul(activation3_out_,W3), b3)\n",
    "    # TODO: Activation.\n",
    "    activation3_out = tf.sigmoid(layer3_out)\n",
    "\n",
    "    # TODO: Layer 4: Fully Connected. Input = 120. Output = 84.\n",
    "    W4 = tf.Variable(tf.random_normal(shape = [120,84],mean = mu, stddev = sigma))\n",
    "    b4 = tf.Variable(tf.zeros(84))\n",
    "    layer4_out = tf.matmul(activation3_out,W4)+ b4\n",
    "    # TODO: Activation.\n",
    "    activation4_out = tf.sigmoid(layer4_out)\n",
    "    # TODO: Layer 5: Fully Connected. Input = 84. Output = 43.\n",
    "    W5 = tf.Variable(tf.random_normal(shape = [84,43]))\n",
    "    b5 = tf.Variable(tf.zeros(43))\n",
    "    layer4_out = tf.add(tf.matmul(activation4_out,W5), b5)\n",
    "    logits = layer4_out\n",
    "    return logits"
   ]
  },
  {
   "cell_type": "code",
   "execution_count": 13,
   "metadata": {
    "collapsed": true,
    "deletable": true,
    "editable": true
   },
   "outputs": [],
   "source": [
    "x = tf.placeholder(tf.float32, (None, 32, 32,1))\n",
    "y = tf.placeholder(tf.int32, (None))\n",
    "#create the tensor for the the one_hot labels\n",
    "one_hot_y = tf.one_hot(y, 43)"
   ]
  },
  {
   "cell_type": "markdown",
   "metadata": {
    "deletable": true,
    "editable": true
   },
   "source": [
    "### Train, Validate and Test the Model"
   ]
  },
  {
   "cell_type": "markdown",
   "metadata": {
    "deletable": true,
    "editable": true
   },
   "source": [
    "A validation set can be used to assess how well the model is performing. A low accuracy on the training and validation\n",
    "sets imply underfitting. A high accuracy on the training set but low accuracy on the validation set implies overfitting."
   ]
  },
  {
   "cell_type": "code",
   "execution_count": 14,
   "metadata": {
    "collapsed": true,
    "deletable": true,
    "editable": true
   },
   "outputs": [],
   "source": [
    "### Train your model here.\n",
    "### Calculate and report the accuracy on the training and validation set.\n",
    "### Once a final model architecture is selected, \n",
    "### the accuracy on the test set should be calculated and reported as well.\n",
    "### Feel free to use as many code cells as needed."
   ]
  },
  {
   "cell_type": "markdown",
   "metadata": {
    "deletable": true,
    "editable": true
   },
   "source": [
    "Prepare what is needed to train the model"
   ]
  },
  {
   "cell_type": "code",
   "execution_count": 15,
   "metadata": {
    "collapsed": false,
    "deletable": true,
    "editable": true
   },
   "outputs": [],
   "source": [
    "rate = 0.0009\n",
    "\n",
    "logits = LeNet(x)\n",
    "cross_entropy = tf.nn.softmax_cross_entropy_with_logits(labels=one_hot_y, logits=logits)\n",
    "loss_operation = tf.reduce_mean(cross_entropy)\n",
    "optimizer = tf.train.AdamOptimizer(learning_rate = rate)\n",
    "training_operation = optimizer.minimize(loss_operation)"
   ]
  },
  {
   "cell_type": "markdown",
   "metadata": {
    "deletable": true,
    "editable": true
   },
   "source": [
    "Prepare what will be used to check the accuracy of the model"
   ]
  },
  {
   "cell_type": "code",
   "execution_count": 16,
   "metadata": {
    "collapsed": true,
    "deletable": true,
    "editable": true
   },
   "outputs": [],
   "source": [
    "# argmax returns the index with the largest value across axes of a tensor.\n",
    "correct_prediction = tf.equal(tf.argmax(logits, 1), tf.argmax(one_hot_y, 1))\n",
    "accuracy_operation = tf.reduce_mean(tf.cast(correct_prediction, tf.float32))\n",
    "saver = tf.train.Saver()\n",
    "\n",
    "def evaluate(X_data, y_data):\n",
    "    num_examples = len(X_data)\n",
    "    total_accuracy = 0\n",
    "    sess = tf.get_default_session()\n",
    "    for offset in range(0, num_examples, BATCH_SIZE):\n",
    "        batch_x, batch_y = X_data[offset:offset+BATCH_SIZE], y_data[offset:offset+BATCH_SIZE]\n",
    "        accuracy = sess.run(accuracy_operation, feed_dict={x: batch_x, y: batch_y})\n",
    "        total_accuracy += (accuracy * len(batch_x))\n",
    "    return total_accuracy / num_examples"
   ]
  },
  {
   "cell_type": "raw",
   "metadata": {
    "deletable": true,
    "editable": true
   },
   "source": [
    "Train the model"
   ]
  },
  {
   "cell_type": "code",
   "execution_count": 17,
   "metadata": {
    "collapsed": false,
    "deletable": true,
    "editable": true
   },
   "outputs": [
    {
     "name": "stdout",
     "output_type": "stream",
     "text": [
      "Training...\n",
      "\n",
      "computing validation accuracy\n",
      "EPOCH 1 ...\n",
      "Validation Accuracy = 0.736\n",
      "\n",
      "computing validation accuracy\n",
      "EPOCH 2 ...\n",
      "Validation Accuracy = 0.876\n",
      "\n",
      "computing validation accuracy\n",
      "EPOCH 3 ...\n",
      "Validation Accuracy = 0.909\n",
      "\n",
      "computing validation accuracy\n",
      "EPOCH 4 ...\n",
      "Validation Accuracy = 0.916\n",
      "\n",
      "computing validation accuracy\n",
      "EPOCH 5 ...\n",
      "Validation Accuracy = 0.923\n",
      "\n",
      "computing validation accuracy\n",
      "EPOCH 6 ...\n",
      "Validation Accuracy = 0.923\n",
      "\n",
      "computing validation accuracy\n",
      "EPOCH 7 ...\n",
      "Validation Accuracy = 0.931\n",
      "\n",
      "computing validation accuracy\n",
      "EPOCH 8 ...\n",
      "Validation Accuracy = 0.934\n",
      "\n",
      "computing validation accuracy\n",
      "EPOCH 9 ...\n",
      "Validation Accuracy = 0.912\n",
      "\n",
      "computing validation accuracy\n",
      "EPOCH 10 ...\n",
      "Validation Accuracy = 0.927\n",
      "\n",
      "computing validation accuracy\n",
      "EPOCH 11 ...\n",
      "Validation Accuracy = 0.923\n",
      "\n",
      "computing validation accuracy\n",
      "EPOCH 12 ...\n",
      "Validation Accuracy = 0.934\n",
      "\n",
      "computing validation accuracy\n",
      "EPOCH 13 ...\n",
      "Validation Accuracy = 0.940\n",
      "\n",
      "computing validation accuracy\n",
      "EPOCH 14 ...\n",
      "Validation Accuracy = 0.941\n",
      "\n",
      "computing validation accuracy\n",
      "EPOCH 15 ...\n",
      "Validation Accuracy = 0.915\n",
      "\n",
      "computing validation accuracy\n",
      "EPOCH 16 ...\n",
      "Validation Accuracy = 0.934\n",
      "\n",
      "computing validation accuracy\n",
      "EPOCH 17 ...\n",
      "Validation Accuracy = 0.943\n",
      "\n",
      "computing validation accuracy\n",
      "EPOCH 18 ...\n",
      "Validation Accuracy = 0.944\n",
      "\n",
      "computing validation accuracy\n",
      "EPOCH 19 ...\n",
      "Validation Accuracy = 0.945\n",
      "\n",
      "computing validation accuracy\n",
      "EPOCH 20 ...\n",
      "Validation Accuracy = 0.947\n",
      "\n",
      "computing validation accuracy\n",
      "EPOCH 21 ...\n",
      "Validation Accuracy = 0.945\n",
      "\n",
      "computing validation accuracy\n",
      "EPOCH 22 ...\n",
      "Validation Accuracy = 0.945\n",
      "\n",
      "computing validation accuracy\n",
      "EPOCH 23 ...\n",
      "Validation Accuracy = 0.946\n",
      "\n",
      "computing validation accuracy\n",
      "EPOCH 24 ...\n",
      "Validation Accuracy = 0.946\n",
      "\n",
      "computing validation accuracy\n",
      "EPOCH 25 ...\n",
      "Validation Accuracy = 0.947\n",
      "\n",
      "computing validation accuracy\n",
      "EPOCH 26 ...\n",
      "Validation Accuracy = 0.946\n",
      "\n",
      "computing validation accuracy\n",
      "EPOCH 27 ...\n",
      "Validation Accuracy = 0.946\n",
      "\n",
      "computing validation accuracy\n",
      "EPOCH 28 ...\n",
      "Validation Accuracy = 0.832\n",
      "\n",
      "computing validation accuracy\n",
      "EPOCH 29 ...\n",
      "Validation Accuracy = 0.922\n",
      "\n",
      "computing validation accuracy\n",
      "EPOCH 30 ...\n",
      "Validation Accuracy = 0.942\n",
      "\n",
      "Model saved\n"
     ]
    }
   ],
   "source": [
    "from sklearn.utils import shuffle\n",
    "with tf.Session() as sess:\n",
    "    sess.run(tf.global_variables_initializer())\n",
    "    num_examples = n_train\n",
    "    \n",
    "    print(\"Training...\")\n",
    "    print()\n",
    "    epoch_list = []\n",
    "    validation_accuracy_list = []\n",
    "    for i in range(EPOCHS):\n",
    "        #make sure to re-shuffle the data each time\n",
    "        X_train, y_train = shuffle(X_train, y_train)\n",
    "        for offset in range(0, num_examples, BATCH_SIZE):\n",
    "            end = offset + BATCH_SIZE\n",
    "            batch_x, batch_y = X_train[offset:end], y_train[offset:end]\n",
    "            sess.run(training_operation, feed_dict={x: batch_x, y: batch_y})\n",
    "        print('computing validation accuracy')    \n",
    "        validation_accuracy = evaluate(X_valid, y_valid)\n",
    "        epoch_list.append(i)\n",
    "        validation_accuracy_list.append(validation_accuracy)\n",
    "        print(\"EPOCH {} ...\".format(i+1))\n",
    "        print(\"Validation Accuracy = {:.3f}\".format(validation_accuracy))\n",
    "        print()\n",
    "        \n",
    "    saver.save(sess, 'lenet_augm_grey')\n",
    "    print(\"Model saved\")"
   ]
  },
  {
   "cell_type": "code",
   "execution_count": 18,
   "metadata": {
    "collapsed": false
   },
   "outputs": [
    {
     "data": {
      "image/png": "[encoded data removed]",
      "text/plain": [
       "<matplotlib.figure.Figure at 0x7f9a149c8048>"
      ]
     },
     "metadata": {},
     "output_type": "display_data"
    }
   ],
   "source": [
    "plt.plot(epoch_list, validation_accuracy_list)\n",
    "plt.xlabel('Epoch #')\n",
    "plt.ylabel('validation accuracy')\n",
    "plt.show()"
   ]
  },
  {
   "cell_type": "code",
   "execution_count": 19,
   "metadata": {
    "collapsed": false,
    "deletable": true,
    "editable": true
   },
   "outputs": [
    {
     "name": "stdout",
     "output_type": "stream",
     "text": [
      "Model restored.\n",
      "Validation Accuracy = 0.915\n"
     ]
    }
   ],
   "source": [
    "with tf.Session() as sess:\n",
    "    saver.restore(sess, './lenet_augm_grey')\n",
    "    print(\"Model restored.\")\n",
    "    #sess.run(tf.global_variables_initializer())\n",
    "    test_accuracy = evaluate(X_test, y_test)\n",
    "    print(\"Validation Accuracy = {:.3f}\".format(test_accuracy))\n"
   ]
  },
  {
   "cell_type": "code",
   "execution_count": 20,
   "metadata": {
    "collapsed": false
   },
   "outputs": [
    {
     "name": "stdout",
     "output_type": "stream",
     "text": [
      "Model restored.\n",
      "Validation Accuracy = 1.000\n"
     ]
    }
   ],
   "source": [
    "with tf.Session() as sess:\n",
    "    saver.restore(sess, './lenet_augm_grey')\n",
    "    print(\"Model restored.\")\n",
    "    #sess.run(tf.global_variables_initializer())\n",
    "    test_accuracy = evaluate(X_train, y_train)\n",
    "    print(\"Validation Accuracy = {:.3f}\".format(test_accuracy))"
   ]
  },
  {
   "cell_type": "markdown",
   "metadata": {
    "deletable": true,
    "editable": true
   },
   "source": [
    "---\n",
    "\n",
    "## Step 3: Test a Model on New Images\n",
    "\n",
    "To give yourself more insight into how your model is working, download at least five pictures of German traffic signs from the web and use your model to predict the traffic sign type.\n",
    "\n",
    "You may find `signnames.csv` useful as it contains mappings from the class id (integer) to the actual sign name."
   ]
  },
  {
   "cell_type": "markdown",
   "metadata": {
    "deletable": true,
    "editable": true
   },
   "source": [
    "### Load and Output the Images"
   ]
  },
  {
   "cell_type": "code",
   "execution_count": 21,
   "metadata": {
    "collapsed": false,
    "deletable": true,
    "editable": true
   },
   "outputs": [
    {
     "data": {
      "image/png": "[encoded data removed]",
      "text/plain": [
       "<matplotlib.figure.Figure at 0x7f99faa7c1d0>"
      ]
     },
     "metadata": {},
     "output_type": "display_data"
    }
   ],
   "source": [
    "### Load the images and plot them here.\n",
    "### Feel free to use as many code cells as needed.\n",
    "img_list_str = [\"img1.png\", \"img2.png\",\"img3.png\",\"img4.png\",\"img5.png\"]\n",
    "img_list = []\n",
    "import matplotlib.image as mpimg\n",
    "\n",
    "for i in range(len(img_list_str)):\n",
    "    img = img_list_str[i]\n",
    "    mg=mpimg.imread(img)\n",
    "    img_list.append(mg)\n",
    "    #plot the image\n",
    "    plt.subplot(1, 5, i+1)\n",
    "    plt.imshow(mg)\n",
    "plt.show()"
   ]
  },
  {
   "cell_type": "markdown",
   "metadata": {
    "deletable": true,
    "editable": true
   },
   "source": [
    "### Predict the Sign Type for Each Image"
   ]
  },
  {
   "cell_type": "code",
   "execution_count": 22,
   "metadata": {
    "collapsed": true,
    "deletable": true,
    "editable": true
   },
   "outputs": [],
   "source": [
    "### Run the predictions here and use the model to output the prediction for each image.\n",
    "### Make sure to pre-process the images with the same pre-processing pipeline used earlier.\n",
    "### Feel free to use as many code cells as needed."
   ]
  },
  {
   "cell_type": "code",
   "execution_count": 23,
   "metadata": {
    "collapsed": false,
    "deletable": true,
    "editable": true
   },
   "outputs": [
    {
     "name": "stdout",
     "output_type": "stream",
     "text": [
      "(5, 32, 32, 1)\n",
      "Normalized dataset:\n",
      "mean =  0.188\n",
      "standard deviation =  0.56\n"
     ]
    }
   ],
   "source": [
    "#normalize the image\n",
    "\n",
    "#the data is loaded as a float from 0 to 1\n",
    "#we need to convert it to 0 to 255\n",
    "img_list_norm = []\n",
    "\n",
    "for img in img_list:\n",
    "    img_norm = (img*255)\n",
    "    img_list_norm.append(img_norm)\n",
    "#transform the list into an array\n",
    "img_list_norm = np.array(img_list_norm)\n",
    "img_list_norm = normalize_grey_IMGdataset(img_list_norm)\n",
    "print(img_list_norm.shape)\n",
    "\n",
    "\n",
    "print('Normalized dataset:')\n",
    "print('mean = ',np.around(np.mean(img_list_norm),decimals = 3))\n",
    "print('standard deviation = ',np.around(np.std(img_list_norm),decimals = 3))"
   ]
  },
  {
   "cell_type": "code",
   "execution_count": 24,
   "metadata": {
    "collapsed": true,
    "deletable": true,
    "editable": true
   },
   "outputs": [],
   "source": [
    "#create the label\n",
    "y_ = [7,3,15,14,35]\n",
    "y_ =  np.array(y_)"
   ]
  },
  {
   "cell_type": "markdown",
   "metadata": {
    "deletable": true,
    "editable": true
   },
   "source": [
    "### Analyze Performance"
   ]
  },
  {
   "cell_type": "code",
   "execution_count": 25,
   "metadata": {
    "collapsed": true,
    "deletable": true,
    "editable": true
   },
   "outputs": [],
   "source": [
    "### Calculate the accuracy for these 5 new images. \n",
    "### For example, if the model predicted 1 out of 5 signs correctly, it's 20% accurate on these new images."
   ]
  },
  {
   "cell_type": "code",
   "execution_count": 26,
   "metadata": {
    "collapsed": false,
    "deletable": true,
    "editable": true
   },
   "outputs": [
    {
     "name": "stdout",
     "output_type": "stream",
     "text": [
      "Model restored.\n",
      "0.800000011921\n"
     ]
    }
   ],
   "source": [
    "with tf.Session() as sess:\n",
    "    #restore the model \n",
    "    saver.restore(sess, './lenet_augm_grey')\n",
    "    print(\"Model restored.\")\n",
    "\n",
    "    evaluate_5 = evaluate(img_list_norm, y_)\n",
    "    print(evaluate_5)"
   ]
  },
  {
   "cell_type": "markdown",
   "metadata": {
    "deletable": true,
    "editable": true
   },
   "source": [
    "### Output Top 5 Softmax Probabilities For Each Image Found on the Web"
   ]
  },
  {
   "cell_type": "markdown",
   "metadata": {
    "deletable": true,
    "editable": true
   },
   "source": [
    "For each of the new images, print out the model's softmax probabilities to show the **certainty** of the model's predictions (limit the output to the top 5 probabilities for each image). [`tf.nn.top_k`](https://www.tensorflow.org/versions/r0.12/api_docs/python/nn.html#top_k) could prove helpful here. \n",
    "\n",
    "The example below demonstrates how tf.nn.top_k can be used to find the top k predictions for each image.\n",
    "\n",
    "`tf.nn.top_k` will return the values and indices (class ids) of the top k predictions. So if k=3, for each sign, it'll return the 3 largest probabilities (out of a possible 43) and the correspoding class ids.\n",
    "\n",
    "Take this numpy array as an example. The values in the array represent predictions. The array contains softmax probabilities for five candidate images with six possible classes. `tk.nn.top_k` is used to choose the three classes with the highest probability:\n",
    "\n",
    "```\n",
    "# (5, 6) array\n",
    "a = np.array([[ 0.24879643,  0.07032244,  0.12641572,  0.34763842,  0.07893497,\n",
    "         0.12789202],\n",
    "       [ 0.28086119,  0.27569815,  0.08594638,  0.0178669 ,  0.18063401,\n",
    "         0.15899337],\n",
    "       [ 0.26076848,  0.23664738,  0.08020603,  0.07001922,  0.1134371 ,\n",
    "         0.23892179],\n",
    "       [ 0.11943333,  0.29198961,  0.02605103,  0.26234032,  0.1351348 ,\n",
    "         0.16505091],\n",
    "       [ 0.09561176,  0.34396535,  0.0643941 ,  0.16240774,  0.24206137,\n",
    "         0.09155967]])\n",
    "```\n",
    "\n",
    "Running it through `sess.run(tf.nn.top_k(tf.constant(a), k=3))` produces:\n",
    "\n",
    "```\n",
    "TopKV2(values=array([[ 0.34763842,  0.24879643,  0.12789202],\n",
    "       [ 0.28086119,  0.27569815,  0.18063401],\n",
    "       [ 0.26076848,  0.23892179,  0.23664738],\n",
    "       [ 0.29198961,  0.26234032,  0.16505091],\n",
    "       [ 0.34396535,  0.24206137,  0.16240774]]), indices=array([[3, 0, 5],\n",
    "       [0, 1, 4],\n",
    "       [0, 5, 1],\n",
    "       [1, 3, 5],\n",
    "       [1, 4, 3]], dtype=int32))\n",
    "```\n",
    "\n",
    "Looking just at the first row we get `[ 0.34763842,  0.24879643,  0.12789202]`, you can confirm these are the 3 largest probabilities in `a`. You'll also notice `[3, 0, 5]` are the corresponding indices."
   ]
  },
  {
   "cell_type": "code",
   "execution_count": 27,
   "metadata": {
    "collapsed": false,
    "deletable": true,
    "editable": true
   },
   "outputs": [
    {
     "name": "stdout",
     "output_type": "stream",
     "text": [
      "(5, 32, 32, 1)\n",
      "TopKV2(values=array([[ 15.48959064,   7.06372929,   6.44817495],\n",
      "       [ 13.20326042,   9.42335606,   8.7804842 ],\n",
      "       [ 15.42980194,   7.59144878,   6.27359724],\n",
      "       [ 14.19214249,   6.12189913,   6.08121347],\n",
      "       [ 16.4929657 ,   9.75194073,   9.12059116]], dtype=float32), indices=array([[ 2,  1,  3],\n",
      "       [ 3,  2,  1],\n",
      "       [15, 29, 32],\n",
      "       [14,  0,  4],\n",
      "       [35, 18, 25]], dtype=int32))\n"
     ]
    }
   ],
   "source": [
    "### Print out the top five softmax probabilities for the predictions on the German traffic sign images found on the web. \n",
    "### Feel free to use as many code cells as needed.\n",
    "print(img_list_norm.shape)\n",
    "with tf.Session() as sess:\n",
    "    #restore the model \n",
    "    saver.restore(sess, './lenet_augm_grey')\n",
    "\n",
    "    k_softmax = tf.nn.top_k(logits, k=3, sorted=True, name=None)\n",
    "    print(sess.run(k_softmax, feed_dict={x: img_list_norm, y: y_}))\n",
    "    \n",
    "# expected:  [7,3,15,14,35]"
   ]
  },
  {
   "cell_type": "markdown",
   "metadata": {
    "deletable": true,
    "editable": true
   },
   "source": [
    "### Project Writeup\n",
    "\n",
    "Once you have completed the code implementation, document your results in a project writeup using this [template](https://github.com/udacity/CarND-Traffic-Sign-Classifier-Project/blob/master/writeup_template.md) as a guide. The writeup can be in a markdown or pdf file. "
   ]
  },
  {
   "cell_type": "markdown",
   "metadata": {
    "deletable": true,
    "editable": true
   },
   "source": [
    "> **Note**: Once you have completed all of the code implementations and successfully answered each question above, you may finalize your work by exporting the iPython Notebook as an HTML document. You can do this by using the menu above and navigating to  \\n\",\n",
    "    \"**File -> Download as -> HTML (.html)**. Include the finished document along with this notebook as your submission."
   ]
  },
  {
   "cell_type": "markdown",
   "metadata": {
    "deletable": true,
    "editable": true
   },
   "source": [
    "---\n",
    "\n",
    "## Step 4 (Optional): Visualize the Neural Network's State with Test Images\n",
    "\n",
    " This Section is not required to complete but acts as an additional excersise for understaning the output of a neural network's weights. While neural networks can be a great learning device they are often referred to as a black box. We can understand what the weights of a neural network look like better by plotting their feature maps. After successfully training your neural network you can see what it's feature maps look like by plotting the output of the network's weight layers in response to a test stimuli image. From these plotted feature maps, it's possible to see what characteristics of an image the network finds interesting. For a sign, maybe the inner network feature maps react with high activation to the sign's boundary outline or to the contrast in the sign's painted symbol.\n",
    "\n",
    " Provided for you below is the function code that allows you to get the visualization output of any tensorflow weight layer you want. The inputs to the function should be a stimuli image, one used during training or a new one you provided, and then the tensorflow variable name that represents the layer's state during the training process, for instance if you wanted to see what the [LeNet lab's](https://classroom.udacity.com/nanodegrees/nd013/parts/fbf77062-5703-404e-b60c-95b78b2f3f9e/modules/6df7ae49-c61c-4bb2-a23e-6527e69209ec/lessons/601ae704-1035-4287-8b11-e2c2716217ad/concepts/d4aca031-508f-4e0b-b493-e7b706120f81) feature maps looked like for it's second convolutional layer you could enter conv2 as the tf_activation variable.\n",
    "\n",
    "For an example of what feature map outputs look like, check out NVIDIA's results in their paper [End-to-End Deep Learning for Self-Driving Cars](https://devblogs.nvidia.com/parallelforall/deep-learning-self-driving-cars/) in the section Visualization of internal CNN State. NVIDIA was able to show that their network's inner weights had high activations to road boundary lines by comparing feature maps from an image with a clear path to one without. Try experimenting with a similar test to show that your trained network's weights are looking for interesting features, whether it's looking at differences in feature maps from images with or without a sign, or even what feature maps look like in a trained network vs a completely untrained one on the same sign image.\n",
    "\n",
    "<figure>\n",
    " <img src=\"visualize_cnn.png\" width=\"380\" alt=\"Combined Image\" />\n",
    " <figcaption>\n",
    " <p></p> \n",
    " <p style=\"text-align: center;\"> Your output should look something like this (above)</p> \n",
    " </figcaption>\n",
    "</figure>\n",
    " <p></p> \n"
   ]
  },
  {
   "cell_type": "code",
   "execution_count": 28,
   "metadata": {
    "collapsed": true,
    "deletable": true,
    "editable": true
   },
   "outputs": [],
   "source": [
    "### Visualize your network's feature maps here.\n",
    "### Feel free to use as many code cells as needed.\n",
    "\n",
    "# image_input: the test image being fed into the network to produce the feature maps\n",
    "# tf_activation: should be a tf variable name used during your training procedure that represents the calculated state of a specific weight layer\n",
    "# activation_min/max: can be used to view the activation contrast in more detail, by default matplot sets min and max to the actual min and max values of the output\n",
    "# plt_num: used to plot out multiple different weight feature map sets on the same block, just extend the plt number for each new feature map entry\n",
    "\n",
    "def outputFeatureMap(image_input, tf_activation, activation_min=-1, activation_max=-1 ,plt_num=1):\n",
    "    # Here make sure to preprocess your image_input in a way your network expects\n",
    "    # with size, normalization, ect if needed\n",
    "    # image_input =\n",
    "    # Note: x should be the same name as your network's tensorflow data placeholder variable\n",
    "    # If you get an error tf_activation is not defined it may be having trouble accessing the variable from inside a function\n",
    "    activation = tf_activation.eval(session=sess,feed_dict={x : image_input})\n",
    "    featuremaps = activation.shape[3]\n",
    "    plt.figure(plt_num, figsize=(15,15))\n",
    "    for featuremap in range(featuremaps):\n",
    "        plt.subplot(6,8, featuremap+1) # sets the number of feature maps to show on each row and column\n",
    "        plt.title('FeatureMap ' + str(featuremap)) # displays the feature map number\n",
    "        if activation_min != -1 & activation_max != -1:\n",
    "            plt.imshow(activation[0,:,:, featuremap], interpolation=\"nearest\", vmin =activation_min, vmax=activation_max, cmap=\"gray\")\n",
    "        elif activation_max != -1:\n",
    "            plt.imshow(activation[0,:,:, featuremap], interpolation=\"nearest\", vmax=activation_max, cmap=\"gray\")\n",
    "        elif activation_min !=-1:\n",
    "            plt.imshow(activation[0,:,:, featuremap], interpolation=\"nearest\", vmin=activation_min, cmap=\"gray\")\n",
    "        else:\n",
    "            plt.imshow(activation[0,:,:, featuremap], interpolation=\"nearest\", cmap=\"gray\")"
   ]
  }
 ],
 "metadata": {
  "anaconda-cloud": {},
  "kernelspec": {
   "display_name": "Python 3",
   "language": "python",
   "name": "python3"
  },
  "language_info": {
   "codemirror_mode": {
    "name": "ipython",
    "version": 3
   },
   "file_extension": ".py",
   "mimetype": "text/x-python",
   "name": "python",
   "nbconvert_exporter": "python",
   "pygments_lexer": "ipython3",
   "version": "3.5.2"
  },
  "widgets": {
   "state": {},
   "version": "1.1.2"
  }
 },
 "nbformat": 4,
 "nbformat_minor": 1
}
